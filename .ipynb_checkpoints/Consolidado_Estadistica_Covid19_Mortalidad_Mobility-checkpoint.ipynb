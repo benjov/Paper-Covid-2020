{
 "cells": [
  {
   "cell_type": "markdown",
   "metadata": {},
   "source": [
    "# Visualizando datos de COVID-19, Exceso de Mortalidad y Movilidad\n",
    "\n",
    "Actualización al 24 de marzo de 2021"
   ]
  },
  {
   "cell_type": "code",
   "execution_count": 1,
   "metadata": {},
   "outputs": [],
   "source": [
    "# Dependencies\n",
    "import pandas as pd\n",
    "import plotly.express as px\n",
    "import plotly.graph_objects as go\n",
    "import numpy as np\n",
    "import math\n",
    "from scipy.stats import chisquare\n",
    "#from benfordslaw import benfordslaw\n",
    "from scipy.stats import chi2\n",
    "from statsmodels.tsa.stattools import adfuller\n",
    "from statsmodels.tsa.stattools import grangercausalitytests\n",
    "\n",
    "import warnings\n",
    "warnings.filterwarnings('ignore')"
   ]
  },
  {
   "cell_type": "markdown",
   "metadata": {},
   "source": [
    "## Datos COVID-19"
   ]
  },
  {
   "cell_type": "code",
   "execution_count": 2,
   "metadata": {},
   "outputs": [
    {
     "data": {
      "text/html": [
       "<div>\n",
       "<style scoped>\n",
       "    .dataframe tbody tr th:only-of-type {\n",
       "        vertical-align: middle;\n",
       "    }\n",
       "\n",
       "    .dataframe tbody tr th {\n",
       "        vertical-align: top;\n",
       "    }\n",
       "\n",
       "    .dataframe thead th {\n",
       "        text-align: right;\n",
       "    }\n",
       "</style>\n",
       "<table border=\"1\" class=\"dataframe\">\n",
       "  <thead>\n",
       "    <tr style=\"text-align: right;\">\n",
       "      <th></th>\n",
       "      <th>Fecha</th>\n",
       "      <th>Confirmados</th>\n",
       "      <th>Defunciones_Sint</th>\n",
       "      <th>Defunciones_Muer</th>\n",
       "    </tr>\n",
       "  </thead>\n",
       "  <tbody>\n",
       "    <tr>\n",
       "      <th>0</th>\n",
       "      <td>2020-01-01</td>\n",
       "      <td>NaN</td>\n",
       "      <td>NaN</td>\n",
       "      <td>NaN</td>\n",
       "    </tr>\n",
       "    <tr>\n",
       "      <th>1</th>\n",
       "      <td>2020-01-02</td>\n",
       "      <td>NaN</td>\n",
       "      <td>NaN</td>\n",
       "      <td>NaN</td>\n",
       "    </tr>\n",
       "    <tr>\n",
       "      <th>2</th>\n",
       "      <td>2020-01-03</td>\n",
       "      <td>NaN</td>\n",
       "      <td>NaN</td>\n",
       "      <td>NaN</td>\n",
       "    </tr>\n",
       "    <tr>\n",
       "      <th>3</th>\n",
       "      <td>2020-01-04</td>\n",
       "      <td>NaN</td>\n",
       "      <td>NaN</td>\n",
       "      <td>NaN</td>\n",
       "    </tr>\n",
       "    <tr>\n",
       "      <th>4</th>\n",
       "      <td>2020-01-05</td>\n",
       "      <td>NaN</td>\n",
       "      <td>NaN</td>\n",
       "      <td>NaN</td>\n",
       "    </tr>\n",
       "  </tbody>\n",
       "</table>\n",
       "</div>"
      ],
      "text/plain": [
       "        Fecha  Confirmados  Defunciones_Sint  Defunciones_Muer\n",
       "0  2020-01-01          NaN               NaN               NaN\n",
       "1  2020-01-02          NaN               NaN               NaN\n",
       "2  2020-01-03          NaN               NaN               NaN\n",
       "3  2020-01-04          NaN               NaN               NaN\n",
       "4  2020-01-05          NaN               NaN               NaN"
      ]
     },
     "execution_count": 2,
     "metadata": {},
     "output_type": "execute_result"
    }
   ],
   "source": [
    "# \n",
    "\n",
    "Covid19 = pd.read_csv('Series_Casos_23.03.2021.csv', encoding = 'utf-8-sig')\n",
    "\n",
    "Covid19 = Covid19[['Fecha', 'Confirmados', 'Defunciones_Sint', 'Defunciones_Muer']]\n",
    "\n",
    "Covid19.head()"
   ]
  },
  {
   "cell_type": "code",
   "execution_count": 3,
   "metadata": {},
   "outputs": [
    {
     "data": {
      "text/plain": [
       "Index(['Fecha', 'Confirmados', 'Defunciones_Sint', 'Defunciones_Muer'], dtype='object')"
      ]
     },
     "execution_count": 3,
     "metadata": {},
     "output_type": "execute_result"
    }
   ],
   "source": [
    "# Nombres de las columnas\n",
    "Covid19.columns"
   ]
  },
  {
   "cell_type": "markdown",
   "metadata": {},
   "source": [
    "## Datos Mortalidad - Defunciones"
   ]
  },
  {
   "cell_type": "code",
   "execution_count": 4,
   "metadata": {},
   "outputs": [
    {
     "data": {
      "text/html": [
       "<div>\n",
       "<style scoped>\n",
       "    .dataframe tbody tr th:only-of-type {\n",
       "        vertical-align: middle;\n",
       "    }\n",
       "\n",
       "    .dataframe tbody tr th {\n",
       "        vertical-align: top;\n",
       "    }\n",
       "\n",
       "    .dataframe thead th {\n",
       "        text-align: right;\n",
       "    }\n",
       "</style>\n",
       "<table border=\"1\" class=\"dataframe\">\n",
       "  <thead>\n",
       "    <tr style=\"text-align: right;\">\n",
       "      <th></th>\n",
       "      <th>Fecha</th>\n",
       "      <th>Defunciones</th>\n",
       "      <th>Defunciones_Reg</th>\n",
       "    </tr>\n",
       "  </thead>\n",
       "  <tbody>\n",
       "    <tr>\n",
       "      <th>0</th>\n",
       "      <td>2020-01-01</td>\n",
       "      <td>2436.0</td>\n",
       "      <td>199</td>\n",
       "    </tr>\n",
       "    <tr>\n",
       "      <th>1</th>\n",
       "      <td>2020-01-02</td>\n",
       "      <td>2481.0</td>\n",
       "      <td>1476</td>\n",
       "    </tr>\n",
       "    <tr>\n",
       "      <th>2</th>\n",
       "      <td>2020-01-03</td>\n",
       "      <td>2226.0</td>\n",
       "      <td>1796</td>\n",
       "    </tr>\n",
       "    <tr>\n",
       "      <th>3</th>\n",
       "      <td>2020-01-04</td>\n",
       "      <td>2271.0</td>\n",
       "      <td>1327</td>\n",
       "    </tr>\n",
       "    <tr>\n",
       "      <th>4</th>\n",
       "      <td>2020-01-05</td>\n",
       "      <td>2335.0</td>\n",
       "      <td>1081</td>\n",
       "    </tr>\n",
       "  </tbody>\n",
       "</table>\n",
       "</div>"
      ],
      "text/plain": [
       "        Fecha  Defunciones  Defunciones_Reg\n",
       "0  2020-01-01       2436.0              199\n",
       "1  2020-01-02       2481.0             1476\n",
       "2  2020-01-03       2226.0             1796\n",
       "3  2020-01-04       2271.0             1327\n",
       "4  2020-01-05       2335.0             1081"
      ]
     },
     "execution_count": 4,
     "metadata": {},
     "output_type": "execute_result"
    }
   ],
   "source": [
    "# \n",
    "\n",
    "Defunciones = pd.read_csv('Series_Defunciones.csv', encoding = 'utf-8-sig')\n",
    "\n",
    "Defunciones.head()"
   ]
  },
  {
   "cell_type": "code",
   "execution_count": 5,
   "metadata": {},
   "outputs": [
    {
     "data": {
      "text/plain": [
       "Index(['Fecha', 'Defunciones', 'Defunciones_Reg'], dtype='object')"
      ]
     },
     "execution_count": 5,
     "metadata": {},
     "output_type": "execute_result"
    }
   ],
   "source": [
    "# Nombres de las columnas\n",
    "Defunciones.columns"
   ]
  },
  {
   "cell_type": "markdown",
   "metadata": {},
   "source": [
    "## Datos Mobility"
   ]
  },
  {
   "cell_type": "code",
   "execution_count": 59,
   "metadata": {},
   "outputs": [
    {
     "data": {
      "text/html": [
       "<div>\n",
       "<style scoped>\n",
       "    .dataframe tbody tr th:only-of-type {\n",
       "        vertical-align: middle;\n",
       "    }\n",
       "\n",
       "    .dataframe tbody tr th {\n",
       "        vertical-align: top;\n",
       "    }\n",
       "\n",
       "    .dataframe thead th {\n",
       "        text-align: right;\n",
       "    }\n",
       "</style>\n",
       "<table border=\"1\" class=\"dataframe\">\n",
       "  <thead>\n",
       "    <tr style=\"text-align: right;\">\n",
       "      <th></th>\n",
       "      <th>Fecha</th>\n",
       "      <th>Residential</th>\n",
       "      <th>Recreation</th>\n",
       "    </tr>\n",
       "  </thead>\n",
       "  <tbody>\n",
       "    <tr>\n",
       "      <th>0</th>\n",
       "      <td>2020-02-15</td>\n",
       "      <td>-1.0</td>\n",
       "      <td>6.0</td>\n",
       "    </tr>\n",
       "    <tr>\n",
       "      <th>1</th>\n",
       "      <td>2020-02-16</td>\n",
       "      <td>-1.0</td>\n",
       "      <td>7.0</td>\n",
       "    </tr>\n",
       "    <tr>\n",
       "      <th>2</th>\n",
       "      <td>2020-02-17</td>\n",
       "      <td>-2.0</td>\n",
       "      <td>2.0</td>\n",
       "    </tr>\n",
       "    <tr>\n",
       "      <th>3</th>\n",
       "      <td>2020-02-18</td>\n",
       "      <td>-2.0</td>\n",
       "      <td>0.0</td>\n",
       "    </tr>\n",
       "    <tr>\n",
       "      <th>4</th>\n",
       "      <td>2020-02-19</td>\n",
       "      <td>-1.0</td>\n",
       "      <td>0.0</td>\n",
       "    </tr>\n",
       "  </tbody>\n",
       "</table>\n",
       "</div>"
      ],
      "text/plain": [
       "        Fecha  Residential  Recreation\n",
       "0  2020-02-15         -1.0         6.0\n",
       "1  2020-02-16         -1.0         7.0\n",
       "2  2020-02-17         -2.0         2.0\n",
       "3  2020-02-18         -2.0         0.0\n",
       "4  2020-02-19         -1.0         0.0"
      ]
     },
     "execution_count": 59,
     "metadata": {},
     "output_type": "execute_result"
    }
   ],
   "source": [
    "# \n",
    "\n",
    "Mobility = pd.read_csv('Series_Mobility.csv', encoding = 'utf-8-sig')\n",
    "\n",
    "Mobility = Mobility[['Fecha', 'residential_percent_change_from_baseline', \n",
    "                     'retail_and_recreation_percent_change_from_baseline']].rename( \n",
    "    columns = {'residential_percent_change_from_baseline': 'Residential', \n",
    "               'retail_and_recreation_percent_change_from_baseline': 'Recreation'} )\n",
    "\n",
    "Mobility.head()"
   ]
  },
  {
   "cell_type": "code",
   "execution_count": 60,
   "metadata": {},
   "outputs": [
    {
     "data": {
      "text/plain": [
       "Index(['Fecha', 'Residential', 'Recreation'], dtype='object')"
      ]
     },
     "execution_count": 60,
     "metadata": {},
     "output_type": "execute_result"
    }
   ],
   "source": [
    "# Nombres de las columnas\n",
    "Mobility.columns"
   ]
  },
  {
   "cell_type": "markdown",
   "metadata": {},
   "source": [
    "## Uniendo las tablas"
   ]
  },
  {
   "cell_type": "code",
   "execution_count": 64,
   "metadata": {},
   "outputs": [
    {
     "data": {
      "text/html": [
       "<div>\n",
       "<style scoped>\n",
       "    .dataframe tbody tr th:only-of-type {\n",
       "        vertical-align: middle;\n",
       "    }\n",
       "\n",
       "    .dataframe tbody tr th {\n",
       "        vertical-align: top;\n",
       "    }\n",
       "\n",
       "    .dataframe thead th {\n",
       "        text-align: right;\n",
       "    }\n",
       "</style>\n",
       "<table border=\"1\" class=\"dataframe\">\n",
       "  <thead>\n",
       "    <tr style=\"text-align: right;\">\n",
       "      <th></th>\n",
       "      <th>Fecha</th>\n",
       "      <th>Confirmados</th>\n",
       "      <th>Defunciones_Sint</th>\n",
       "      <th>Defunciones_Muer</th>\n",
       "      <th>Residential</th>\n",
       "      <th>Recreation</th>\n",
       "    </tr>\n",
       "  </thead>\n",
       "  <tbody>\n",
       "    <tr>\n",
       "      <th>0</th>\n",
       "      <td>2020-01-01</td>\n",
       "      <td>NaN</td>\n",
       "      <td>NaN</td>\n",
       "      <td>NaN</td>\n",
       "      <td>NaN</td>\n",
       "      <td>NaN</td>\n",
       "    </tr>\n",
       "    <tr>\n",
       "      <th>1</th>\n",
       "      <td>2020-01-02</td>\n",
       "      <td>NaN</td>\n",
       "      <td>NaN</td>\n",
       "      <td>NaN</td>\n",
       "      <td>NaN</td>\n",
       "      <td>NaN</td>\n",
       "    </tr>\n",
       "    <tr>\n",
       "      <th>2</th>\n",
       "      <td>2020-01-03</td>\n",
       "      <td>NaN</td>\n",
       "      <td>NaN</td>\n",
       "      <td>NaN</td>\n",
       "      <td>NaN</td>\n",
       "      <td>NaN</td>\n",
       "    </tr>\n",
       "    <tr>\n",
       "      <th>3</th>\n",
       "      <td>2020-01-04</td>\n",
       "      <td>NaN</td>\n",
       "      <td>NaN</td>\n",
       "      <td>NaN</td>\n",
       "      <td>NaN</td>\n",
       "      <td>NaN</td>\n",
       "    </tr>\n",
       "    <tr>\n",
       "      <th>4</th>\n",
       "      <td>2020-01-05</td>\n",
       "      <td>NaN</td>\n",
       "      <td>NaN</td>\n",
       "      <td>NaN</td>\n",
       "      <td>NaN</td>\n",
       "      <td>NaN</td>\n",
       "    </tr>\n",
       "  </tbody>\n",
       "</table>\n",
       "</div>"
      ],
      "text/plain": [
       "        Fecha  Confirmados  Defunciones_Sint  Defunciones_Muer  Residential  \\\n",
       "0  2020-01-01          NaN               NaN               NaN          NaN   \n",
       "1  2020-01-02          NaN               NaN               NaN          NaN   \n",
       "2  2020-01-03          NaN               NaN               NaN          NaN   \n",
       "3  2020-01-04          NaN               NaN               NaN          NaN   \n",
       "4  2020-01-05          NaN               NaN               NaN          NaN   \n",
       "\n",
       "   Recreation  \n",
       "0         NaN  \n",
       "1         NaN  \n",
       "2         NaN  \n",
       "3         NaN  \n",
       "4         NaN  "
      ]
     },
     "execution_count": 64,
     "metadata": {},
     "output_type": "execute_result"
    }
   ],
   "source": [
    "#\n",
    "\n",
    "#Datos = pd.merge(Covid19, Defunciones, how = 'outer', on = 'Fecha')\n",
    "\n",
    "#Datos = pd.merge(Datos, Mobility, how = 'outer', on = 'Fecha')\n",
    "\n",
    "Datos = pd.merge(Covid19, Mobility, how = 'outer', on = 'Fecha')\n",
    "\n",
    "Datos.head()"
   ]
  },
  {
   "cell_type": "markdown",
   "metadata": {},
   "source": [
    "## Pruebas de Raíces Unitarias -- ADF"
   ]
  },
  {
   "cell_type": "code",
   "execution_count": 66,
   "metadata": {},
   "outputs": [
    {
     "data": {
      "text/html": [
       "<div>\n",
       "<style scoped>\n",
       "    .dataframe tbody tr th:only-of-type {\n",
       "        vertical-align: middle;\n",
       "    }\n",
       "\n",
       "    .dataframe tbody tr th {\n",
       "        vertical-align: top;\n",
       "    }\n",
       "\n",
       "    .dataframe thead th {\n",
       "        text-align: right;\n",
       "    }\n",
       "</style>\n",
       "<table border=\"1\" class=\"dataframe\">\n",
       "  <thead>\n",
       "    <tr style=\"text-align: right;\">\n",
       "      <th></th>\n",
       "      <th>Fecha</th>\n",
       "      <th>Confirmados</th>\n",
       "      <th>Defunciones_Sint</th>\n",
       "      <th>Defunciones_Muer</th>\n",
       "      <th>Residential</th>\n",
       "      <th>Recreation</th>\n",
       "      <th>LConfirmados</th>\n",
       "      <th>LDefunciones_Sint</th>\n",
       "      <th>LDefunciones_Muer</th>\n",
       "      <th>DLConfirmados</th>\n",
       "      <th>DLDefunciones_Sint</th>\n",
       "      <th>DLDefunciones_Muer</th>\n",
       "      <th>DResidential</th>\n",
       "      <th>DRecreation</th>\n",
       "    </tr>\n",
       "  </thead>\n",
       "  <tbody>\n",
       "    <tr>\n",
       "      <th>88</th>\n",
       "      <td>2020-03-29</td>\n",
       "      <td>290.0</td>\n",
       "      <td>62.0</td>\n",
       "      <td>9.0</td>\n",
       "      <td>11.0</td>\n",
       "      <td>-45.0</td>\n",
       "      <td>5.669881</td>\n",
       "      <td>4.127134</td>\n",
       "      <td>2.197225</td>\n",
       "      <td>0.516589</td>\n",
       "      <td>0.831298</td>\n",
       "      <td>1.504077</td>\n",
       "      <td>3.0</td>\n",
       "      <td>-8.0</td>\n",
       "    </tr>\n",
       "    <tr>\n",
       "      <th>89</th>\n",
       "      <td>2020-03-30</td>\n",
       "      <td>418.0</td>\n",
       "      <td>75.0</td>\n",
       "      <td>12.0</td>\n",
       "      <td>15.0</td>\n",
       "      <td>-35.0</td>\n",
       "      <td>6.035481</td>\n",
       "      <td>4.317488</td>\n",
       "      <td>2.484907</td>\n",
       "      <td>0.502092</td>\n",
       "      <td>0.556288</td>\n",
       "      <td>2.484907</td>\n",
       "      <td>3.0</td>\n",
       "      <td>-4.0</td>\n",
       "    </tr>\n",
       "    <tr>\n",
       "      <th>90</th>\n",
       "      <td>2020-03-31</td>\n",
       "      <td>325.0</td>\n",
       "      <td>69.0</td>\n",
       "      <td>22.0</td>\n",
       "      <td>16.0</td>\n",
       "      <td>-35.0</td>\n",
       "      <td>5.783825</td>\n",
       "      <td>4.234107</td>\n",
       "      <td>3.091042</td>\n",
       "      <td>0.480520</td>\n",
       "      <td>0.707746</td>\n",
       "      <td>2.397895</td>\n",
       "      <td>2.0</td>\n",
       "      <td>0.0</td>\n",
       "    </tr>\n",
       "    <tr>\n",
       "      <th>91</th>\n",
       "      <td>2020-04-01</td>\n",
       "      <td>513.0</td>\n",
       "      <td>102.0</td>\n",
       "      <td>20.0</td>\n",
       "      <td>18.0</td>\n",
       "      <td>-37.0</td>\n",
       "      <td>6.240276</td>\n",
       "      <td>4.624973</td>\n",
       "      <td>2.995732</td>\n",
       "      <td>0.776444</td>\n",
       "      <td>0.863773</td>\n",
       "      <td>2.302585</td>\n",
       "      <td>2.0</td>\n",
       "      <td>0.0</td>\n",
       "    </tr>\n",
       "    <tr>\n",
       "      <th>92</th>\n",
       "      <td>2020-04-02</td>\n",
       "      <td>469.0</td>\n",
       "      <td>102.0</td>\n",
       "      <td>27.0</td>\n",
       "      <td>19.0</td>\n",
       "      <td>-47.0</td>\n",
       "      <td>6.150603</td>\n",
       "      <td>4.624973</td>\n",
       "      <td>3.295837</td>\n",
       "      <td>0.498114</td>\n",
       "      <td>0.693147</td>\n",
       "      <td>1.216395</td>\n",
       "      <td>3.0</td>\n",
       "      <td>-10.0</td>\n",
       "    </tr>\n",
       "  </tbody>\n",
       "</table>\n",
       "</div>"
      ],
      "text/plain": [
       "         Fecha  Confirmados  Defunciones_Sint  Defunciones_Muer  Residential  \\\n",
       "88  2020-03-29        290.0              62.0               9.0         11.0   \n",
       "89  2020-03-30        418.0              75.0              12.0         15.0   \n",
       "90  2020-03-31        325.0              69.0              22.0         16.0   \n",
       "91  2020-04-01        513.0             102.0              20.0         18.0   \n",
       "92  2020-04-02        469.0             102.0              27.0         19.0   \n",
       "\n",
       "    Recreation  LConfirmados  LDefunciones_Sint  LDefunciones_Muer  \\\n",
       "88       -45.0      5.669881           4.127134           2.197225   \n",
       "89       -35.0      6.035481           4.317488           2.484907   \n",
       "90       -35.0      5.783825           4.234107           3.091042   \n",
       "91       -37.0      6.240276           4.624973           2.995732   \n",
       "92       -47.0      6.150603           4.624973           3.295837   \n",
       "\n",
       "    DLConfirmados  DLDefunciones_Sint  DLDefunciones_Muer  DResidential  \\\n",
       "88       0.516589            0.831298            1.504077           3.0   \n",
       "89       0.502092            0.556288            2.484907           3.0   \n",
       "90       0.480520            0.707746            2.397895           2.0   \n",
       "91       0.776444            0.863773            2.302585           2.0   \n",
       "92       0.498114            0.693147            1.216395           3.0   \n",
       "\n",
       "    DRecreation  \n",
       "88         -8.0  \n",
       "89         -4.0  \n",
       "90          0.0  \n",
       "91          0.0  \n",
       "92        -10.0  "
      ]
     },
     "execution_count": 66,
     "metadata": {},
     "output_type": "execute_result"
    }
   ],
   "source": [
    "# Seleccionamos columnas sin NaN's y en una fecha posterior al los últimos días de marzo:\n",
    "\n",
    "DF = Datos[(Datos['Fecha'] > '2020-03-20')].dropna()\n",
    "\n",
    "# Calculamos valores en logaritmos\n",
    "\n",
    "DF['LConfirmados'] = np.log(DF['Confirmados'])\n",
    "\n",
    "DF['LDefunciones_Sint'] = np.log(DF['Defunciones_Sint'])\n",
    "\n",
    "DF['LDefunciones_Muer'] = np.log(DF['Defunciones_Muer'])\n",
    "\n",
    "#DF['LDefunciones'] = np.log(DF['Defunciones'])\n",
    "\n",
    "#DF['LResidential'] = np.log(DF['Residential'])\n",
    "\n",
    "#DF['LRecreation'] = np.log(DF['Recreation'])\n",
    "\n",
    "# Calculamos valores en diferencias logaritmicas\n",
    "\n",
    "DF['DLConfirmados'] = DF['LConfirmados'].diff(7)\n",
    "\n",
    "DF['DLDefunciones_Sint'] = DF['LDefunciones_Sint'].diff(7)\n",
    "\n",
    "DF['DLDefunciones_Muer'] = DF['LDefunciones_Muer'].diff(7)\n",
    "\n",
    "#DF['DLDefunciones'] = DF['LDefunciones'].diff(7)\n",
    "\n",
    "DF['DResidential'] = DF['Residential'].diff(7)\n",
    "\n",
    "DF['DRecreation'] = DF['Recreation'].diff(7)\n",
    "\n",
    "DF = DF.dropna()\n",
    "\n",
    "DF.head()"
   ]
  },
  {
   "cell_type": "code",
   "execution_count": 71,
   "metadata": {},
   "outputs": [
    {
     "name": "stdout",
     "output_type": "stream",
     "text": [
      "ADF Statistic: -0.208874\n",
      "p-value: 0.937456\n",
      "Use lags: 17\n",
      "Obs.: 340\n",
      "Critical Values:\n",
      "\t1%: -3.450\n",
      "\t5%: -2.870\n",
      "\t10%: -2.571\n"
     ]
    }
   ],
   "source": [
    "# Confirmados\n",
    "\n",
    "result = adfuller(DF['DLConfirmados'], \n",
    "                  regression = 'c', # “c” : constant only; “ct” : constant and trend; “nc” : no constant, no trend\n",
    "                  autolag='AIC',)\n",
    "\n",
    "print('ADF Statistic: %f' % result[0])\n",
    "print('p-value: %f' % result[1])\n",
    "print('Use lags: %i' % result[2])\n",
    "print('Obs.: %i' % result[3])\n",
    "print('Critical Values:')\n",
    "for key, value in result[4].items():\n",
    "    print('\\t%s: %.3f' % (key, value))"
   ]
  },
  {
   "cell_type": "code",
   "execution_count": 72,
   "metadata": {},
   "outputs": [
    {
     "name": "stdout",
     "output_type": "stream",
     "text": [
      "ADF Statistic: 2.181258\n",
      "p-value: 0.998867\n",
      "Use lags: 14\n",
      "Obs.: 343\n",
      "Critical Values:\n",
      "\t1%: -3.450\n",
      "\t5%: -2.870\n",
      "\t10%: -2.571\n"
     ]
    }
   ],
   "source": [
    "# Defunciones_Sint\n",
    "\n",
    "result = adfuller(DF['DLDefunciones_Sint'], \n",
    "                  regression = 'c', # “c” : constant only; “ct” : constant and trend; “nc” : no constant, no trend\n",
    "                  autolag='AIC',)\n",
    "\n",
    "print('ADF Statistic: %f' % result[0])\n",
    "print('p-value: %f' % result[1])\n",
    "print('Use lags: %i' % result[2])\n",
    "print('Obs.: %i' % result[3])\n",
    "print('Critical Values:')\n",
    "for key, value in result[4].items():\n",
    "    print('\\t%s: %.3f' % (key, value))"
   ]
  },
  {
   "cell_type": "code",
   "execution_count": 73,
   "metadata": {},
   "outputs": [
    {
     "name": "stdout",
     "output_type": "stream",
     "text": [
      "ADF Statistic: -3.395547\n",
      "p-value: 0.051986\n",
      "Use lags: 17\n",
      "Obs.: 340\n",
      "Critical Values:\n",
      "\t1%: -3.986\n",
      "\t5%: -3.423\n",
      "\t10%: -3.135\n"
     ]
    }
   ],
   "source": [
    "# Defunciones_Muer\n",
    "\n",
    "result = adfuller(DF['DLDefunciones_Muer'], \n",
    "                  regression = 'ct', # “c” : constant only; “ct” : constant and trend; “nc” : no constant, no trend\n",
    "                  autolag='AIC',)\n",
    "\n",
    "print('ADF Statistic: %f' % result[0])\n",
    "print('p-value: %f' % result[1])\n",
    "print('Use lags: %i' % result[2])\n",
    "print('Obs.: %i' % result[3])\n",
    "print('Critical Values:')\n",
    "for key, value in result[4].items():\n",
    "    print('\\t%s: %.3f' % (key, value))"
   ]
  },
  {
   "cell_type": "code",
   "execution_count": 75,
   "metadata": {},
   "outputs": [
    {
     "name": "stdout",
     "output_type": "stream",
     "text": [
      "ADF Statistic: -6.051597\n",
      "p-value: 0.000002\n",
      "Use lags: 14\n",
      "Obs.: 343\n",
      "Critical Values:\n",
      "\t1%: -3.985\n",
      "\t5%: -3.423\n",
      "\t10%: -3.135\n"
     ]
    }
   ],
   "source": [
    "# Residential\n",
    "\n",
    "result = adfuller(DF['DResidential'], \n",
    "                  regression = 'ct', # “c” : constant only; “ct” : constant and trend; “nc” : no constant, no trend\n",
    "                  autolag='AIC',)\n",
    "\n",
    "print('ADF Statistic: %f' % result[0])\n",
    "print('p-value: %f' % result[1])\n",
    "print('Use lags: %i' % result[2])\n",
    "print('Obs.: %i' % result[3])\n",
    "print('Critical Values:')\n",
    "for key, value in result[4].items():\n",
    "    print('\\t%s: %.3f' % (key, value))"
   ]
  },
  {
   "cell_type": "markdown",
   "metadata": {},
   "source": [
    "## Granger causality"
   ]
  },
  {
   "cell_type": "code",
   "execution_count": 57,
   "metadata": {},
   "outputs": [
    {
     "name": "stdout",
     "output_type": "stream",
     "text": [
      "\n",
      "Granger Causality\n",
      "number of lags (no zero) 15\n",
      "ssr based F test:         F=0.8905  , p=0.5755  , df_denom=234, df_num=15\n",
      "ssr based chi2 test:   chi2=15.1266 , p=0.4423  , df=15\n",
      "likelihood ratio test: chi2=14.7106 , p=0.4725  , df=15\n",
      "parameter F test:         F=0.8905  , p=0.5755  , df_denom=234, df_num=15\n"
     ]
    },
    {
     "data": {
      "text/plain": [
       "{15: ({'ssr_ftest': (0.8904713880913613, 0.5755307844822487, 234.0, 15),\n",
       "   'ssr_chi2test': (15.126597297705816, 0.44233719698993224, 15),\n",
       "   'lrtest': (14.710629175040367, 0.4724549815034105, 15),\n",
       "   'params_ftest': (0.8904713880913618, 0.5755307844822487, 234.0, 15.0)},\n",
       "  [<statsmodels.regression.linear_model.RegressionResultsWrapper at 0x7fca5e6a5190>,\n",
       "   <statsmodels.regression.linear_model.RegressionResultsWrapper at 0x7fca5e689090>,\n",
       "   array([[0., 0., 0., 0., 0., 0., 0., 0., 0., 0., 0., 0., 0., 0., 0., 1.,\n",
       "           0., 0., 0., 0., 0., 0., 0., 0., 0., 0., 0., 0., 0., 0., 0.],\n",
       "          [0., 0., 0., 0., 0., 0., 0., 0., 0., 0., 0., 0., 0., 0., 0., 0.,\n",
       "           1., 0., 0., 0., 0., 0., 0., 0., 0., 0., 0., 0., 0., 0., 0.],\n",
       "          [0., 0., 0., 0., 0., 0., 0., 0., 0., 0., 0., 0., 0., 0., 0., 0.,\n",
       "           0., 1., 0., 0., 0., 0., 0., 0., 0., 0., 0., 0., 0., 0., 0.],\n",
       "          [0., 0., 0., 0., 0., 0., 0., 0., 0., 0., 0., 0., 0., 0., 0., 0.,\n",
       "           0., 0., 1., 0., 0., 0., 0., 0., 0., 0., 0., 0., 0., 0., 0.],\n",
       "          [0., 0., 0., 0., 0., 0., 0., 0., 0., 0., 0., 0., 0., 0., 0., 0.,\n",
       "           0., 0., 0., 1., 0., 0., 0., 0., 0., 0., 0., 0., 0., 0., 0.],\n",
       "          [0., 0., 0., 0., 0., 0., 0., 0., 0., 0., 0., 0., 0., 0., 0., 0.,\n",
       "           0., 0., 0., 0., 1., 0., 0., 0., 0., 0., 0., 0., 0., 0., 0.],\n",
       "          [0., 0., 0., 0., 0., 0., 0., 0., 0., 0., 0., 0., 0., 0., 0., 0.,\n",
       "           0., 0., 0., 0., 0., 1., 0., 0., 0., 0., 0., 0., 0., 0., 0.],\n",
       "          [0., 0., 0., 0., 0., 0., 0., 0., 0., 0., 0., 0., 0., 0., 0., 0.,\n",
       "           0., 0., 0., 0., 0., 0., 1., 0., 0., 0., 0., 0., 0., 0., 0.],\n",
       "          [0., 0., 0., 0., 0., 0., 0., 0., 0., 0., 0., 0., 0., 0., 0., 0.,\n",
       "           0., 0., 0., 0., 0., 0., 0., 1., 0., 0., 0., 0., 0., 0., 0.],\n",
       "          [0., 0., 0., 0., 0., 0., 0., 0., 0., 0., 0., 0., 0., 0., 0., 0.,\n",
       "           0., 0., 0., 0., 0., 0., 0., 0., 1., 0., 0., 0., 0., 0., 0.],\n",
       "          [0., 0., 0., 0., 0., 0., 0., 0., 0., 0., 0., 0., 0., 0., 0., 0.,\n",
       "           0., 0., 0., 0., 0., 0., 0., 0., 0., 1., 0., 0., 0., 0., 0.],\n",
       "          [0., 0., 0., 0., 0., 0., 0., 0., 0., 0., 0., 0., 0., 0., 0., 0.,\n",
       "           0., 0., 0., 0., 0., 0., 0., 0., 0., 0., 1., 0., 0., 0., 0.],\n",
       "          [0., 0., 0., 0., 0., 0., 0., 0., 0., 0., 0., 0., 0., 0., 0., 0.,\n",
       "           0., 0., 0., 0., 0., 0., 0., 0., 0., 0., 0., 1., 0., 0., 0.],\n",
       "          [0., 0., 0., 0., 0., 0., 0., 0., 0., 0., 0., 0., 0., 0., 0., 0.,\n",
       "           0., 0., 0., 0., 0., 0., 0., 0., 0., 0., 0., 0., 1., 0., 0.],\n",
       "          [0., 0., 0., 0., 0., 0., 0., 0., 0., 0., 0., 0., 0., 0., 0., 0.,\n",
       "           0., 0., 0., 0., 0., 0., 0., 0., 0., 0., 0., 0., 0., 1., 0.]])])}"
      ]
     },
     "execution_count": 57,
     "metadata": {},
     "output_type": "execute_result"
    }
   ],
   "source": [
    "Data = DF[['DLConfirmados', 'DLResidential']] \n",
    "\n",
    "grangercausalitytests(Data, [15], addconst = True, verbose = True)"
   ]
  },
  {
   "cell_type": "code",
   "execution_count": 20,
   "metadata": {},
   "outputs": [
    {
     "data": {
      "text/html": [
       "<div>\n",
       "<style scoped>\n",
       "    .dataframe tbody tr th:only-of-type {\n",
       "        vertical-align: middle;\n",
       "    }\n",
       "\n",
       "    .dataframe tbody tr th {\n",
       "        vertical-align: top;\n",
       "    }\n",
       "\n",
       "    .dataframe thead th {\n",
       "        text-align: right;\n",
       "    }\n",
       "</style>\n",
       "<table border=\"1\" class=\"dataframe\">\n",
       "  <thead>\n",
       "    <tr style=\"text-align: right;\">\n",
       "      <th></th>\n",
       "      <th>Fecha</th>\n",
       "      <th>Confirmados</th>\n",
       "      <th>Defunciones_Sint</th>\n",
       "      <th>Defunciones_Muer</th>\n",
       "      <th>Defunciones</th>\n",
       "      <th>Defunciones_Reg</th>\n",
       "      <th>Residential</th>\n",
       "      <th>LConfirmados</th>\n",
       "      <th>LDefunciones_Sint</th>\n",
       "      <th>LDefunciones_Muer</th>\n",
       "      <th>LDefunciones</th>\n",
       "      <th>LResidential</th>\n",
       "      <th>DLConfirmados</th>\n",
       "      <th>DLDefunciones_Sint</th>\n",
       "      <th>DLDefunciones_Muer</th>\n",
       "      <th>DLDefunciones</th>\n",
       "      <th>DLResidential</th>\n",
       "    </tr>\n",
       "  </thead>\n",
       "  <tbody>\n",
       "    <tr>\n",
       "      <th>88</th>\n",
       "      <td>2020-03-29</td>\n",
       "      <td>290.0</td>\n",
       "      <td>62.0</td>\n",
       "      <td>9.0</td>\n",
       "      <td>1954.0</td>\n",
       "      <td>1029.0</td>\n",
       "      <td>11.0</td>\n",
       "      <td>5.588853</td>\n",
       "      <td>3.874173</td>\n",
       "      <td>1.860752</td>\n",
       "      <td>7.571621</td>\n",
       "      <td>2.639057</td>\n",
       "      <td>0.064539</td>\n",
       "      <td>0.109656</td>\n",
       "      <td>0.169076</td>\n",
       "      <td>0.004940</td>\n",
       "      <td>0.031091</td>\n",
       "    </tr>\n",
       "    <tr>\n",
       "      <th>89</th>\n",
       "      <td>2020-03-30</td>\n",
       "      <td>418.0</td>\n",
       "      <td>75.0</td>\n",
       "      <td>12.0</td>\n",
       "      <td>1983.0</td>\n",
       "      <td>2358.0</td>\n",
       "      <td>15.0</td>\n",
       "      <td>5.673323</td>\n",
       "      <td>3.964886</td>\n",
       "      <td>2.079442</td>\n",
       "      <td>7.573531</td>\n",
       "      <td>2.669210</td>\n",
       "      <td>0.084471</td>\n",
       "      <td>0.090714</td>\n",
       "      <td>0.218689</td>\n",
       "      <td>0.001911</td>\n",
       "      <td>0.030153</td>\n",
       "    </tr>\n",
       "    <tr>\n",
       "      <th>90</th>\n",
       "      <td>2020-03-31</td>\n",
       "      <td>325.0</td>\n",
       "      <td>69.0</td>\n",
       "      <td>22.0</td>\n",
       "      <td>1874.0</td>\n",
       "      <td>1970.0</td>\n",
       "      <td>16.0</td>\n",
       "      <td>5.732416</td>\n",
       "      <td>4.055505</td>\n",
       "      <td>2.384823</td>\n",
       "      <td>7.570149</td>\n",
       "      <td>2.688819</td>\n",
       "      <td>0.059093</td>\n",
       "      <td>0.090618</td>\n",
       "      <td>0.305382</td>\n",
       "      <td>-0.003383</td>\n",
       "      <td>0.019608</td>\n",
       "    </tr>\n",
       "    <tr>\n",
       "      <th>91</th>\n",
       "      <td>2020-04-01</td>\n",
       "      <td>513.0</td>\n",
       "      <td>102.0</td>\n",
       "      <td>20.0</td>\n",
       "      <td>1956.0</td>\n",
       "      <td>2005.0</td>\n",
       "      <td>18.0</td>\n",
       "      <td>5.853023</td>\n",
       "      <td>4.191817</td>\n",
       "      <td>2.597385</td>\n",
       "      <td>7.574192</td>\n",
       "      <td>2.708050</td>\n",
       "      <td>0.120607</td>\n",
       "      <td>0.136312</td>\n",
       "      <td>0.212561</td>\n",
       "      <td>0.004043</td>\n",
       "      <td>0.019231</td>\n",
       "    </tr>\n",
       "    <tr>\n",
       "      <th>92</th>\n",
       "      <td>2020-04-02</td>\n",
       "      <td>469.0</td>\n",
       "      <td>102.0</td>\n",
       "      <td>27.0</td>\n",
       "      <td>1901.0</td>\n",
       "      <td>1889.0</td>\n",
       "      <td>19.0</td>\n",
       "      <td>5.925783</td>\n",
       "      <td>4.296313</td>\n",
       "      <td>2.781478</td>\n",
       "      <td>7.566755</td>\n",
       "      <td>2.736221</td>\n",
       "      <td>0.072759</td>\n",
       "      <td>0.104496</td>\n",
       "      <td>0.184093</td>\n",
       "      <td>-0.007437</td>\n",
       "      <td>0.028171</td>\n",
       "    </tr>\n",
       "  </tbody>\n",
       "</table>\n",
       "</div>"
      ],
      "text/plain": [
       "         Fecha  Confirmados  Defunciones_Sint  Defunciones_Muer  Defunciones  \\\n",
       "88  2020-03-29        290.0              62.0               9.0       1954.0   \n",
       "89  2020-03-30        418.0              75.0              12.0       1983.0   \n",
       "90  2020-03-31        325.0              69.0              22.0       1874.0   \n",
       "91  2020-04-01        513.0             102.0              20.0       1956.0   \n",
       "92  2020-04-02        469.0             102.0              27.0       1901.0   \n",
       "\n",
       "    Defunciones_Reg  Residential  LConfirmados  LDefunciones_Sint  \\\n",
       "88           1029.0         11.0      5.588853           3.874173   \n",
       "89           2358.0         15.0      5.673323           3.964886   \n",
       "90           1970.0         16.0      5.732416           4.055505   \n",
       "91           2005.0         18.0      5.853023           4.191817   \n",
       "92           1889.0         19.0      5.925783           4.296313   \n",
       "\n",
       "    LDefunciones_Muer  LDefunciones  LResidential  DLConfirmados  \\\n",
       "88           1.860752      7.571621      2.639057       0.064539   \n",
       "89           2.079442      7.573531      2.669210       0.084471   \n",
       "90           2.384823      7.570149      2.688819       0.059093   \n",
       "91           2.597385      7.574192      2.708050       0.120607   \n",
       "92           2.781478      7.566755      2.736221       0.072759   \n",
       "\n",
       "    DLDefunciones_Sint  DLDefunciones_Muer  DLDefunciones  DLResidential  \n",
       "88            0.109656            0.169076       0.004940       0.031091  \n",
       "89            0.090714            0.218689       0.001911       0.030153  \n",
       "90            0.090618            0.305382      -0.003383       0.019608  \n",
       "91            0.136312            0.212561       0.004043       0.019231  \n",
       "92            0.104496            0.184093      -0.007437       0.028171  "
      ]
     },
     "execution_count": 20,
     "metadata": {},
     "output_type": "execute_result"
    }
   ],
   "source": [
    "# Seleccionamos columnas sin NaN's y en una fecha posterior al los últimos días de marzo:\n",
    "\n",
    "DF_MA = Datos[(Datos['Fecha'] > '2020-03-20')].dropna()\n",
    "\n",
    "# Calculamos valores en logaritmos\n",
    "\n",
    "DF_MA['LConfirmados'] = np.log(DF_MA['Confirmados'].rolling(window = 7).mean())\n",
    "\n",
    "DF_MA['LDefunciones_Sint'] = np.log(DF_MA['Defunciones_Sint'].rolling(window = 7).mean())\n",
    "\n",
    "DF_MA['LDefunciones_Muer'] = np.log(DF_MA['Defunciones_Muer'].rolling(window = 7).mean())\n",
    "\n",
    "DF_MA['LDefunciones'] = np.log(DF_MA['Defunciones'].rolling(window = 7).mean())\n",
    "\n",
    "DF_MA['LResidential'] = np.log(DF_MA['Residential'].rolling(window = 7).mean())\n",
    "\n",
    "# Calculamos valores en diferencias logaritmicas\n",
    "\n",
    "DF_MA['DLConfirmados'] = DF_MA['LConfirmados'].diff(1)\n",
    "\n",
    "DF_MA['DLDefunciones_Sint'] = DF_MA['LDefunciones_Sint'].diff(1)\n",
    "\n",
    "DF_MA['DLDefunciones_Muer'] = DF_MA['LDefunciones_Muer'].diff(1)\n",
    "\n",
    "DF_MA['DLDefunciones'] = DF_MA['LDefunciones'].diff(1)\n",
    "\n",
    "DF_MA['DLResidential'] = DF_MA['LResidential'].diff(1)\n",
    "\n",
    "DF_MA = DF_MA.dropna()\n",
    "\n",
    "DF_MA.head()"
   ]
  },
  {
   "cell_type": "code",
   "execution_count": 29,
   "metadata": {},
   "outputs": [
    {
     "name": "stdout",
     "output_type": "stream",
     "text": [
      "ADF Statistic: -3.304511\n",
      "p-value: 0.014678\n",
      "Use lags: 16\n",
      "Obs.: 263\n",
      "Critical Values:\n",
      "\t1%: -3.455\n",
      "\t5%: -2.873\n",
      "\t10%: -2.573\n"
     ]
    }
   ],
   "source": [
    "# Confirmados\n",
    "\n",
    "result = adfuller(DF_MA['DLConfirmados'], \n",
    "                  regression = 'c', # “c” : constant only; “ct” : constant and trend; “nc” : no constant, no trend\n",
    "                  autolag='AIC',)\n",
    "\n",
    "print('ADF Statistic: %f' % result[0])\n",
    "print('p-value: %f' % result[1])\n",
    "print('Use lags: %i' % result[2])\n",
    "print('Obs.: %i' % result[3])\n",
    "print('Critical Values:')\n",
    "for key, value in result[4].items():\n",
    "    print('\\t%s: %.3f' % (key, value))"
   ]
  },
  {
   "cell_type": "code",
   "execution_count": 34,
   "metadata": {},
   "outputs": [
    {
     "name": "stdout",
     "output_type": "stream",
     "text": [
      "ADF Statistic: -3.594402\n",
      "p-value: 0.005869\n",
      "Use lags: 16\n",
      "Obs.: 263\n",
      "Critical Values:\n",
      "\t1%: -3.455\n",
      "\t5%: -2.873\n",
      "\t10%: -2.573\n"
     ]
    }
   ],
   "source": [
    "# Defunciones_Sint\n",
    "\n",
    "result = adfuller(DF_MA['DLDefunciones_Sint'], \n",
    "                  regression = 'c', # “c” : constant only; “ct” : constant and trend; “nc” : no constant, no trend\n",
    "                  autolag='AIC',)\n",
    "\n",
    "print('ADF Statistic: %f' % result[0])\n",
    "print('p-value: %f' % result[1])\n",
    "print('Use lags: %i' % result[2])\n",
    "print('Obs.: %i' % result[3])\n",
    "print('Critical Values:')\n",
    "for key, value in result[4].items():\n",
    "    print('\\t%s: %.3f' % (key, value))"
   ]
  },
  {
   "cell_type": "code",
   "execution_count": 32,
   "metadata": {},
   "outputs": [
    {
     "name": "stdout",
     "output_type": "stream",
     "text": [
      "ADF Statistic: -4.115034\n",
      "p-value: 0.005994\n",
      "Use lags: 16\n",
      "Obs.: 263\n",
      "Critical Values:\n",
      "\t1%: -3.994\n",
      "\t5%: -3.427\n",
      "\t10%: -3.137\n"
     ]
    }
   ],
   "source": [
    "# Defunciones_Muer\n",
    "\n",
    "result = adfuller(DF_MA['DLDefunciones_Muer'], \n",
    "                  regression = 'ct', # “c” : constant only; “ct” : constant and trend; “nc” : no constant, no trend\n",
    "                  autolag='AIC',)\n",
    "\n",
    "print('ADF Statistic: %f' % result[0])\n",
    "print('p-value: %f' % result[1])\n",
    "print('Use lags: %i' % result[2])\n",
    "print('Obs.: %i' % result[3])\n",
    "print('Critical Values:')\n",
    "for key, value in result[4].items():\n",
    "    print('\\t%s: %.3f' % (key, value))"
   ]
  },
  {
   "cell_type": "code",
   "execution_count": 38,
   "metadata": {},
   "outputs": [
    {
     "name": "stdout",
     "output_type": "stream",
     "text": [
      "ADF Statistic: -1.692488\n",
      "p-value: 0.754157\n",
      "Use lags: 14\n",
      "Obs.: 265\n",
      "Critical Values:\n",
      "\t1%: -3.993\n",
      "\t5%: -3.427\n",
      "\t10%: -3.137\n"
     ]
    }
   ],
   "source": [
    "# Defunciones\n",
    "\n",
    "result = adfuller(DF_MA['DLDefunciones'], \n",
    "                  regression = 'ct', # “c” : constant only; “ct” : constant and trend; “nc” : no constant, no trend\n",
    "                  autolag='AIC',)\n",
    "\n",
    "print('ADF Statistic: %f' % result[0])\n",
    "print('p-value: %f' % result[1])\n",
    "print('Use lags: %i' % result[2])\n",
    "print('Obs.: %i' % result[3])\n",
    "print('Critical Values:')\n",
    "for key, value in result[4].items():\n",
    "    print('\\t%s: %.3f' % (key, value))"
   ]
  },
  {
   "cell_type": "code",
   "execution_count": 41,
   "metadata": {},
   "outputs": [
    {
     "name": "stdout",
     "output_type": "stream",
     "text": [
      "ADF Statistic: -7.194162\n",
      "p-value: 0.000000\n",
      "Use lags: 6\n",
      "Obs.: 273\n",
      "Critical Values:\n",
      "\t1%: -3.992\n",
      "\t5%: -3.427\n",
      "\t10%: -3.137\n"
     ]
    }
   ],
   "source": [
    "# Residential\n",
    "\n",
    "result = adfuller(DF_MA['DLResidential'], \n",
    "                  regression = 'ct', # “c” : constant only; “ct” : constant and trend; “nc” : no constant, no trend\n",
    "                  autolag='AIC',)\n",
    "\n",
    "print('ADF Statistic: %f' % result[0])\n",
    "print('p-value: %f' % result[1])\n",
    "print('Use lags: %i' % result[2])\n",
    "print('Obs.: %i' % result[3])\n",
    "print('Critical Values:')\n",
    "for key, value in result[4].items():\n",
    "    print('\\t%s: %.3f' % (key, value))"
   ]
  },
  {
   "cell_type": "code",
   "execution_count": null,
   "metadata": {},
   "outputs": [],
   "source": []
  },
  {
   "cell_type": "code",
   "execution_count": null,
   "metadata": {},
   "outputs": [],
   "source": []
  },
  {
   "cell_type": "code",
   "execution_count": null,
   "metadata": {},
   "outputs": [],
   "source": []
  },
  {
   "cell_type": "code",
   "execution_count": null,
   "metadata": {},
   "outputs": [],
   "source": []
  },
  {
   "cell_type": "code",
   "execution_count": null,
   "metadata": {},
   "outputs": [],
   "source": []
  }
 ],
 "metadata": {
  "kernelspec": {
   "display_name": "Python 3",
   "language": "python",
   "name": "python3"
  },
  "language_info": {
   "codemirror_mode": {
    "name": "ipython",
    "version": 3
   },
   "file_extension": ".py",
   "mimetype": "text/x-python",
   "name": "python",
   "nbconvert_exporter": "python",
   "pygments_lexer": "ipython3",
   "version": "3.7.5"
  }
 },
 "nbformat": 4,
 "nbformat_minor": 2
}
